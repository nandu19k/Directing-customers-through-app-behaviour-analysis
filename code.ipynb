{
  "nbformat": 4,
  "nbformat_minor": 0,
  "metadata": {
    "colab": {
      "name": "Project 3.ipynb",
      "provenance": [],
      "collapsed_sections": []
    },
    "kernelspec": {
      "name": "python3",
      "display_name": "Python 3"
    }
  },
  "cells": [
    {
      "cell_type": "code",
      "metadata": {
        "id": "zWJxXlwpJzEW",
        "colab_type": "code",
        "colab": {
          "base_uri": "https://localhost:8080/",
          "height": 71
        },
        "outputId": "7ec95fe4-1fa4-4704-abac-b54995ce9957"
      },
      "source": [
        "import numpy as np\n",
        "import pandas as pd\n",
        "import matplotlib.pyplot as plt\n",
        "import seaborn as sns"
      ],
      "execution_count": 1,
      "outputs": [
        {
          "output_type": "stream",
          "text": [
            "/usr/local/lib/python3.6/dist-packages/statsmodels/tools/_testing.py:19: FutureWarning: pandas.util.testing is deprecated. Use the functions in the public API at pandas.testing instead.\n",
            "  import pandas.util.testing as tm\n"
          ],
          "name": "stderr"
        }
      ]
    },
    {
      "cell_type": "code",
      "metadata": {
        "id": "d5WkiqZ1KV_5",
        "colab_type": "code",
        "colab": {}
      },
      "source": [
        "dataset = pd.read_csv('appdata10.csv')"
      ],
      "execution_count": 2,
      "outputs": []
    },
    {
      "cell_type": "code",
      "metadata": {
        "id": "L6cZwse9KaK0",
        "colab_type": "code",
        "colab": {
          "base_uri": "https://localhost:8080/",
          "height": 309
        },
        "outputId": "78707ffa-9913-4d73-8cd9-79b9b87c8c85"
      },
      "source": [
        "dataset.head()"
      ],
      "execution_count": 3,
      "outputs": [
        {
          "output_type": "execute_result",
          "data": {
            "text/html": [
              "<div>\n",
              "<style scoped>\n",
              "    .dataframe tbody tr th:only-of-type {\n",
              "        vertical-align: middle;\n",
              "    }\n",
              "\n",
              "    .dataframe tbody tr th {\n",
              "        vertical-align: top;\n",
              "    }\n",
              "\n",
              "    .dataframe thead th {\n",
              "        text-align: right;\n",
              "    }\n",
              "</style>\n",
              "<table border=\"1\" class=\"dataframe\">\n",
              "  <thead>\n",
              "    <tr style=\"text-align: right;\">\n",
              "      <th></th>\n",
              "      <th>user</th>\n",
              "      <th>first_open</th>\n",
              "      <th>dayofweek</th>\n",
              "      <th>hour</th>\n",
              "      <th>age</th>\n",
              "      <th>screen_list</th>\n",
              "      <th>numscreens</th>\n",
              "      <th>minigame</th>\n",
              "      <th>used_premium_feature</th>\n",
              "      <th>enrolled</th>\n",
              "      <th>enrolled_date</th>\n",
              "      <th>liked</th>\n",
              "    </tr>\n",
              "  </thead>\n",
              "  <tbody>\n",
              "    <tr>\n",
              "      <th>0</th>\n",
              "      <td>235136</td>\n",
              "      <td>2012-12-27 02:14:51.273</td>\n",
              "      <td>3</td>\n",
              "      <td>02:00:00</td>\n",
              "      <td>23</td>\n",
              "      <td>idscreen,joinscreen,Cycle,product_review,ScanP...</td>\n",
              "      <td>15</td>\n",
              "      <td>0</td>\n",
              "      <td>0</td>\n",
              "      <td>0</td>\n",
              "      <td>NaN</td>\n",
              "      <td>0</td>\n",
              "    </tr>\n",
              "    <tr>\n",
              "      <th>1</th>\n",
              "      <td>333588</td>\n",
              "      <td>2012-12-02 01:16:00.905</td>\n",
              "      <td>6</td>\n",
              "      <td>01:00:00</td>\n",
              "      <td>24</td>\n",
              "      <td>joinscreen,product_review,product_review2,Scan...</td>\n",
              "      <td>13</td>\n",
              "      <td>0</td>\n",
              "      <td>0</td>\n",
              "      <td>0</td>\n",
              "      <td>NaN</td>\n",
              "      <td>0</td>\n",
              "    </tr>\n",
              "    <tr>\n",
              "      <th>2</th>\n",
              "      <td>254414</td>\n",
              "      <td>2013-03-19 19:19:09.157</td>\n",
              "      <td>1</td>\n",
              "      <td>19:00:00</td>\n",
              "      <td>23</td>\n",
              "      <td>Splash,Cycle,Loan</td>\n",
              "      <td>3</td>\n",
              "      <td>0</td>\n",
              "      <td>1</td>\n",
              "      <td>0</td>\n",
              "      <td>NaN</td>\n",
              "      <td>1</td>\n",
              "    </tr>\n",
              "    <tr>\n",
              "      <th>3</th>\n",
              "      <td>234192</td>\n",
              "      <td>2013-07-05 16:08:46.354</td>\n",
              "      <td>4</td>\n",
              "      <td>16:00:00</td>\n",
              "      <td>28</td>\n",
              "      <td>product_review,Home,product_review,Loan3,Finan...</td>\n",
              "      <td>40</td>\n",
              "      <td>0</td>\n",
              "      <td>0</td>\n",
              "      <td>1</td>\n",
              "      <td>2013-07-05 16:11:49.513</td>\n",
              "      <td>0</td>\n",
              "    </tr>\n",
              "    <tr>\n",
              "      <th>4</th>\n",
              "      <td>51549</td>\n",
              "      <td>2013-02-26 18:50:48.661</td>\n",
              "      <td>1</td>\n",
              "      <td>18:00:00</td>\n",
              "      <td>31</td>\n",
              "      <td>idscreen,joinscreen,Cycle,Credit3Container,Sca...</td>\n",
              "      <td>32</td>\n",
              "      <td>0</td>\n",
              "      <td>0</td>\n",
              "      <td>1</td>\n",
              "      <td>2013-02-26 18:56:37.841</td>\n",
              "      <td>1</td>\n",
              "    </tr>\n",
              "  </tbody>\n",
              "</table>\n",
              "</div>"
            ],
            "text/plain": [
              "     user               first_open  ...            enrolled_date liked\n",
              "0  235136  2012-12-27 02:14:51.273  ...                      NaN     0\n",
              "1  333588  2012-12-02 01:16:00.905  ...                      NaN     0\n",
              "2  254414  2013-03-19 19:19:09.157  ...                      NaN     1\n",
              "3  234192  2013-07-05 16:08:46.354  ...  2013-07-05 16:11:49.513     0\n",
              "4   51549  2013-02-26 18:50:48.661  ...  2013-02-26 18:56:37.841     1\n",
              "\n",
              "[5 rows x 12 columns]"
            ]
          },
          "metadata": {
            "tags": []
          },
          "execution_count": 3
        }
      ]
    },
    {
      "cell_type": "code",
      "metadata": {
        "id": "QQk8yofkKmYt",
        "colab_type": "code",
        "colab": {}
      },
      "source": [
        "dataset['hour'] = dataset.hour.str.slice(1,3).astype(int)"
      ],
      "execution_count": 4,
      "outputs": []
    },
    {
      "cell_type": "code",
      "metadata": {
        "id": "m-YVTw5uObr2",
        "colab_type": "code",
        "colab": {
          "base_uri": "https://localhost:8080/",
          "height": 309
        },
        "outputId": "a936ef98-c3e5-4b94-ba1a-0136a0dd1614"
      },
      "source": [
        "dataset.head()"
      ],
      "execution_count": 5,
      "outputs": [
        {
          "output_type": "execute_result",
          "data": {
            "text/html": [
              "<div>\n",
              "<style scoped>\n",
              "    .dataframe tbody tr th:only-of-type {\n",
              "        vertical-align: middle;\n",
              "    }\n",
              "\n",
              "    .dataframe tbody tr th {\n",
              "        vertical-align: top;\n",
              "    }\n",
              "\n",
              "    .dataframe thead th {\n",
              "        text-align: right;\n",
              "    }\n",
              "</style>\n",
              "<table border=\"1\" class=\"dataframe\">\n",
              "  <thead>\n",
              "    <tr style=\"text-align: right;\">\n",
              "      <th></th>\n",
              "      <th>user</th>\n",
              "      <th>first_open</th>\n",
              "      <th>dayofweek</th>\n",
              "      <th>hour</th>\n",
              "      <th>age</th>\n",
              "      <th>screen_list</th>\n",
              "      <th>numscreens</th>\n",
              "      <th>minigame</th>\n",
              "      <th>used_premium_feature</th>\n",
              "      <th>enrolled</th>\n",
              "      <th>enrolled_date</th>\n",
              "      <th>liked</th>\n",
              "    </tr>\n",
              "  </thead>\n",
              "  <tbody>\n",
              "    <tr>\n",
              "      <th>0</th>\n",
              "      <td>235136</td>\n",
              "      <td>2012-12-27 02:14:51.273</td>\n",
              "      <td>3</td>\n",
              "      <td>2</td>\n",
              "      <td>23</td>\n",
              "      <td>idscreen,joinscreen,Cycle,product_review,ScanP...</td>\n",
              "      <td>15</td>\n",
              "      <td>0</td>\n",
              "      <td>0</td>\n",
              "      <td>0</td>\n",
              "      <td>NaN</td>\n",
              "      <td>0</td>\n",
              "    </tr>\n",
              "    <tr>\n",
              "      <th>1</th>\n",
              "      <td>333588</td>\n",
              "      <td>2012-12-02 01:16:00.905</td>\n",
              "      <td>6</td>\n",
              "      <td>1</td>\n",
              "      <td>24</td>\n",
              "      <td>joinscreen,product_review,product_review2,Scan...</td>\n",
              "      <td>13</td>\n",
              "      <td>0</td>\n",
              "      <td>0</td>\n",
              "      <td>0</td>\n",
              "      <td>NaN</td>\n",
              "      <td>0</td>\n",
              "    </tr>\n",
              "    <tr>\n",
              "      <th>2</th>\n",
              "      <td>254414</td>\n",
              "      <td>2013-03-19 19:19:09.157</td>\n",
              "      <td>1</td>\n",
              "      <td>19</td>\n",
              "      <td>23</td>\n",
              "      <td>Splash,Cycle,Loan</td>\n",
              "      <td>3</td>\n",
              "      <td>0</td>\n",
              "      <td>1</td>\n",
              "      <td>0</td>\n",
              "      <td>NaN</td>\n",
              "      <td>1</td>\n",
              "    </tr>\n",
              "    <tr>\n",
              "      <th>3</th>\n",
              "      <td>234192</td>\n",
              "      <td>2013-07-05 16:08:46.354</td>\n",
              "      <td>4</td>\n",
              "      <td>16</td>\n",
              "      <td>28</td>\n",
              "      <td>product_review,Home,product_review,Loan3,Finan...</td>\n",
              "      <td>40</td>\n",
              "      <td>0</td>\n",
              "      <td>0</td>\n",
              "      <td>1</td>\n",
              "      <td>2013-07-05 16:11:49.513</td>\n",
              "      <td>0</td>\n",
              "    </tr>\n",
              "    <tr>\n",
              "      <th>4</th>\n",
              "      <td>51549</td>\n",
              "      <td>2013-02-26 18:50:48.661</td>\n",
              "      <td>1</td>\n",
              "      <td>18</td>\n",
              "      <td>31</td>\n",
              "      <td>idscreen,joinscreen,Cycle,Credit3Container,Sca...</td>\n",
              "      <td>32</td>\n",
              "      <td>0</td>\n",
              "      <td>0</td>\n",
              "      <td>1</td>\n",
              "      <td>2013-02-26 18:56:37.841</td>\n",
              "      <td>1</td>\n",
              "    </tr>\n",
              "  </tbody>\n",
              "</table>\n",
              "</div>"
            ],
            "text/plain": [
              "     user               first_open  ...            enrolled_date  liked\n",
              "0  235136  2012-12-27 02:14:51.273  ...                      NaN      0\n",
              "1  333588  2012-12-02 01:16:00.905  ...                      NaN      0\n",
              "2  254414  2013-03-19 19:19:09.157  ...                      NaN      1\n",
              "3  234192  2013-07-05 16:08:46.354  ...  2013-07-05 16:11:49.513      0\n",
              "4   51549  2013-02-26 18:50:48.661  ...  2013-02-26 18:56:37.841      1\n",
              "\n",
              "[5 rows x 12 columns]"
            ]
          },
          "metadata": {
            "tags": []
          },
          "execution_count": 5
        }
      ]
    },
    {
      "cell_type": "code",
      "metadata": {
        "id": "dpm_NoCIOg_L",
        "colab_type": "code",
        "colab": {}
      },
      "source": [
        "dataset2 = dataset.copy().drop(columns=['user' , 'first_open' ,'screen_list', 'enrolled' , 'enrolled_date'])"
      ],
      "execution_count": 6,
      "outputs": []
    },
    {
      "cell_type": "code",
      "metadata": {
        "id": "bcO6O2qVOsIp",
        "colab_type": "code",
        "colab": {
          "base_uri": "https://localhost:8080/",
          "height": 204
        },
        "outputId": "f4ed0f34-d919-44f2-df4a-f381bd76e21c"
      },
      "source": [
        "dataset2.head()"
      ],
      "execution_count": 7,
      "outputs": [
        {
          "output_type": "execute_result",
          "data": {
            "text/html": [
              "<div>\n",
              "<style scoped>\n",
              "    .dataframe tbody tr th:only-of-type {\n",
              "        vertical-align: middle;\n",
              "    }\n",
              "\n",
              "    .dataframe tbody tr th {\n",
              "        vertical-align: top;\n",
              "    }\n",
              "\n",
              "    .dataframe thead th {\n",
              "        text-align: right;\n",
              "    }\n",
              "</style>\n",
              "<table border=\"1\" class=\"dataframe\">\n",
              "  <thead>\n",
              "    <tr style=\"text-align: right;\">\n",
              "      <th></th>\n",
              "      <th>dayofweek</th>\n",
              "      <th>hour</th>\n",
              "      <th>age</th>\n",
              "      <th>numscreens</th>\n",
              "      <th>minigame</th>\n",
              "      <th>used_premium_feature</th>\n",
              "      <th>liked</th>\n",
              "    </tr>\n",
              "  </thead>\n",
              "  <tbody>\n",
              "    <tr>\n",
              "      <th>0</th>\n",
              "      <td>3</td>\n",
              "      <td>2</td>\n",
              "      <td>23</td>\n",
              "      <td>15</td>\n",
              "      <td>0</td>\n",
              "      <td>0</td>\n",
              "      <td>0</td>\n",
              "    </tr>\n",
              "    <tr>\n",
              "      <th>1</th>\n",
              "      <td>6</td>\n",
              "      <td>1</td>\n",
              "      <td>24</td>\n",
              "      <td>13</td>\n",
              "      <td>0</td>\n",
              "      <td>0</td>\n",
              "      <td>0</td>\n",
              "    </tr>\n",
              "    <tr>\n",
              "      <th>2</th>\n",
              "      <td>1</td>\n",
              "      <td>19</td>\n",
              "      <td>23</td>\n",
              "      <td>3</td>\n",
              "      <td>0</td>\n",
              "      <td>1</td>\n",
              "      <td>1</td>\n",
              "    </tr>\n",
              "    <tr>\n",
              "      <th>3</th>\n",
              "      <td>4</td>\n",
              "      <td>16</td>\n",
              "      <td>28</td>\n",
              "      <td>40</td>\n",
              "      <td>0</td>\n",
              "      <td>0</td>\n",
              "      <td>0</td>\n",
              "    </tr>\n",
              "    <tr>\n",
              "      <th>4</th>\n",
              "      <td>1</td>\n",
              "      <td>18</td>\n",
              "      <td>31</td>\n",
              "      <td>32</td>\n",
              "      <td>0</td>\n",
              "      <td>0</td>\n",
              "      <td>1</td>\n",
              "    </tr>\n",
              "  </tbody>\n",
              "</table>\n",
              "</div>"
            ],
            "text/plain": [
              "   dayofweek  hour  age  numscreens  minigame  used_premium_feature  liked\n",
              "0          3     2   23          15         0                     0      0\n",
              "1          6     1   24          13         0                     0      0\n",
              "2          1    19   23           3         0                     1      1\n",
              "3          4    16   28          40         0                     0      0\n",
              "4          1    18   31          32         0                     0      1"
            ]
          },
          "metadata": {
            "tags": []
          },
          "execution_count": 7
        }
      ]
    },
    {
      "cell_type": "code",
      "metadata": {
        "id": "muW3ynexO12i",
        "colab_type": "code",
        "colab": {
          "base_uri": "https://localhost:8080/",
          "height": 1000
        },
        "outputId": "e7491ec6-bbab-4dda-c1ac-46de979d843c"
      },
      "source": [
        "for i in dataset2.columns:\n",
        "  plt.hist(dataset2[i])\n",
        "  plt.title(i)\n",
        "  plt.show()\n",
        "  print('\\n')"
      ],
      "execution_count": 8,
      "outputs": [
        {
          "output_type": "display_data",
          "data": {
            "image/png": "[encoded data removed]",
            "text/plain": [
              "<Figure size 432x288 with 1 Axes>"
            ]
          },
          "metadata": {
            "tags": [],
            "needs_background": "light"
          }
        },
        {
          "output_type": "stream",
          "text": [
            "\n",
            "\n"
          ],
          "name": "stdout"
        },
        {
          "output_type": "display_data",
          "data": {
            "image/png": "[encoded data removed]",
            "text/plain": [
              "<Figure size 432x288 with 1 Axes>"
            ]
          },
          "metadata": {
            "tags": [],
            "needs_background": "light"
          }
        },
        {
          "output_type": "stream",
          "text": [
            "\n",
            "\n"
          ],
          "name": "stdout"
        },
        {
          "output_type": "display_data",
          "data": {
            "image/png": "[encoded data removed]",
            "text/plain": [
              "<Figure size 432x288 with 1 Axes>"
            ]
          },
          "metadata": {
            "tags": [],
            "needs_background": "light"
          }
        },
        {
          "output_type": "stream",
          "text": [
            "\n",
            "\n"
          ],
          "name": "stdout"
        },
        {
          "output_type": "display_data",
          "data": {
            "image/png": "[encoded data removed]",
            "text/plain": [
              "<Figure size 432x288 with 1 Axes>"
            ]
          },
          "metadata": {
            "tags": [],
            "needs_background": "light"
          }
        },
        {
          "output_type": "stream",
          "text": [
            "\n",
            "\n"
          ],
          "name": "stdout"
        },
        {
          "output_type": "display_data",
          "data": {
            "image/png": "[encoded data removed]",
            "text/plain": [
              "<Figure size 432x288 with 1 Axes>"
            ]
          },
          "metadata": {
            "tags": [],
            "needs_background": "light"
          }
        },
        {
          "output_type": "stream",
          "text": [
            "\n",
            "\n"
          ],
          "name": "stdout"
        },
        {
          "output_type": "display_data",
          "data": {
            "image/png": "[encoded data removed]",
            "text/plain": [
              "<Figure size 432x288 with 1 Axes>"
            ]
          },
          "metadata": {
            "tags": [],
            "needs_background": "light"
          }
        },
        {
          "output_type": "stream",
          "text": [
            "\n",
            "\n"
          ],
          "name": "stdout"
        },
        {
          "output_type": "display_data",
          "data": {
            "image/png": "[encoded data removed]",
            "text/plain": [
              "<Figure size 432x288 with 1 Axes>"
            ]
          },
          "metadata": {
            "tags": [],
            "needs_background": "light"
          }
        },
        {
          "output_type": "stream",
          "text": [
            "\n",
            "\n"
          ],
          "name": "stdout"
        }
      ]
    },
    {
      "cell_type": "code",
      "metadata": {
        "id": "aMqaXI5ePdql",
        "colab_type": "code",
        "colab": {
          "base_uri": "https://localhost:8080/",
          "height": 652
        },
        "outputId": "73e3b45f-264d-4042-bf65-65b553cdd681"
      },
      "source": [
        "corrmat = dataset2.corr()\n",
        "figure = plt.figure(figsize=(10,10))\n",
        "sns.heatmap(corrmat , vmax=0.8 , square=True)\n",
        "plt.show()"
      ],
      "execution_count": 9,
      "outputs": [
        {
          "output_type": "display_data",
          "data": {
            "image/png": "[encoded data removed]",
            "text/plain": [
              "<Figure size 720x720 with 2 Axes>"
            ]
          },
          "metadata": {
            "tags": [],
            "needs_background": "light"
          }
        }
      ]
    },
    {
      "cell_type": "code",
      "metadata": {
        "id": "lAP3_QtoPw85",
        "colab_type": "code",
        "colab": {}
      },
      "source": [
        "from dateutil import parser"
      ],
      "execution_count": 10,
      "outputs": []
    },
    {
      "cell_type": "code",
      "metadata": {
        "id": "z-sMnoloP2HZ",
        "colab_type": "code",
        "colab": {}
      },
      "source": [
        "dataset['first_open'] = [parser.parse(row_data) for row_data in dataset['first_open']]\n",
        "dataset['enrolled_date'] = [parser.parse(row_data) if isinstance(row_data , str) else row_data for row_data in dataset['enrolled_date']]"
      ],
      "execution_count": 11,
      "outputs": []
    },
    {
      "cell_type": "code",
      "metadata": {
        "id": "5hw43V32QP4Q",
        "colab_type": "code",
        "colab": {
          "base_uri": "https://localhost:8080/",
          "height": 238
        },
        "outputId": "b5dc548e-4bb0-40e4-ef98-502ebad23a14"
      },
      "source": [
        "dataset.dtypes"
      ],
      "execution_count": 12,
      "outputs": [
        {
          "output_type": "execute_result",
          "data": {
            "text/plain": [
              "user                             int64\n",
              "first_open              datetime64[ns]\n",
              "dayofweek                        int64\n",
              "hour                             int64\n",
              "age                              int64\n",
              "screen_list                     object\n",
              "numscreens                       int64\n",
              "minigame                         int64\n",
              "used_premium_feature             int64\n",
              "enrolled                         int64\n",
              "enrolled_date           datetime64[ns]\n",
              "liked                            int64\n",
              "dtype: object"
            ]
          },
          "metadata": {
            "tags": []
          },
          "execution_count": 12
        }
      ]
    },
    {
      "cell_type": "code",
      "metadata": {
        "id": "213C36HOQTML",
        "colab_type": "code",
        "colab": {}
      },
      "source": [
        "dataset['difference'] =(dataset.enrolled_date-dataset.first_open).astype('timedelta64[h]')"
      ],
      "execution_count": 13,
      "outputs": []
    },
    {
      "cell_type": "code",
      "metadata": {
        "id": "X58fOwUeQwty",
        "colab_type": "code",
        "colab": {
          "base_uri": "https://localhost:8080/",
          "height": 309
        },
        "outputId": "3b25ec73-f6b7-49d6-e19d-1d563514c77a"
      },
      "source": [
        "dataset.head()"
      ],
      "execution_count": 14,
      "outputs": [
        {
          "output_type": "execute_result",
          "data": {
            "text/html": [
              "<div>\n",
              "<style scoped>\n",
              "    .dataframe tbody tr th:only-of-type {\n",
              "        vertical-align: middle;\n",
              "    }\n",
              "\n",
              "    .dataframe tbody tr th {\n",
              "        vertical-align: top;\n",
              "    }\n",
              "\n",
              "    .dataframe thead th {\n",
              "        text-align: right;\n",
              "    }\n",
              "</style>\n",
              "<table border=\"1\" class=\"dataframe\">\n",
              "  <thead>\n",
              "    <tr style=\"text-align: right;\">\n",
              "      <th></th>\n",
              "      <th>user</th>\n",
              "      <th>first_open</th>\n",
              "      <th>dayofweek</th>\n",
              "      <th>hour</th>\n",
              "      <th>age</th>\n",
              "      <th>screen_list</th>\n",
              "      <th>numscreens</th>\n",
              "      <th>minigame</th>\n",
              "      <th>used_premium_feature</th>\n",
              "      <th>enrolled</th>\n",
              "      <th>enrolled_date</th>\n",
              "      <th>liked</th>\n",
              "      <th>difference</th>\n",
              "    </tr>\n",
              "  </thead>\n",
              "  <tbody>\n",
              "    <tr>\n",
              "      <th>0</th>\n",
              "      <td>235136</td>\n",
              "      <td>2012-12-27 02:14:51.273</td>\n",
              "      <td>3</td>\n",
              "      <td>2</td>\n",
              "      <td>23</td>\n",
              "      <td>idscreen,joinscreen,Cycle,product_review,ScanP...</td>\n",
              "      <td>15</td>\n",
              "      <td>0</td>\n",
              "      <td>0</td>\n",
              "      <td>0</td>\n",
              "      <td>NaT</td>\n",
              "      <td>0</td>\n",
              "      <td>NaN</td>\n",
              "    </tr>\n",
              "    <tr>\n",
              "      <th>1</th>\n",
              "      <td>333588</td>\n",
              "      <td>2012-12-02 01:16:00.905</td>\n",
              "      <td>6</td>\n",
              "      <td>1</td>\n",
              "      <td>24</td>\n",
              "      <td>joinscreen,product_review,product_review2,Scan...</td>\n",
              "      <td>13</td>\n",
              "      <td>0</td>\n",
              "      <td>0</td>\n",
              "      <td>0</td>\n",
              "      <td>NaT</td>\n",
              "      <td>0</td>\n",
              "      <td>NaN</td>\n",
              "    </tr>\n",
              "    <tr>\n",
              "      <th>2</th>\n",
              "      <td>254414</td>\n",
              "      <td>2013-03-19 19:19:09.157</td>\n",
              "      <td>1</td>\n",
              "      <td>19</td>\n",
              "      <td>23</td>\n",
              "      <td>Splash,Cycle,Loan</td>\n",
              "      <td>3</td>\n",
              "      <td>0</td>\n",
              "      <td>1</td>\n",
              "      <td>0</td>\n",
              "      <td>NaT</td>\n",
              "      <td>1</td>\n",
              "      <td>NaN</td>\n",
              "    </tr>\n",
              "    <tr>\n",
              "      <th>3</th>\n",
              "      <td>234192</td>\n",
              "      <td>2013-07-05 16:08:46.354</td>\n",
              "      <td>4</td>\n",
              "      <td>16</td>\n",
              "      <td>28</td>\n",
              "      <td>product_review,Home,product_review,Loan3,Finan...</td>\n",
              "      <td>40</td>\n",
              "      <td>0</td>\n",
              "      <td>0</td>\n",
              "      <td>1</td>\n",
              "      <td>2013-07-05 16:11:49.513</td>\n",
              "      <td>0</td>\n",
              "      <td>0.0</td>\n",
              "    </tr>\n",
              "    <tr>\n",
              "      <th>4</th>\n",
              "      <td>51549</td>\n",
              "      <td>2013-02-26 18:50:48.661</td>\n",
              "      <td>1</td>\n",
              "      <td>18</td>\n",
              "      <td>31</td>\n",
              "      <td>idscreen,joinscreen,Cycle,Credit3Container,Sca...</td>\n",
              "      <td>32</td>\n",
              "      <td>0</td>\n",
              "      <td>0</td>\n",
              "      <td>1</td>\n",
              "      <td>2013-02-26 18:56:37.841</td>\n",
              "      <td>1</td>\n",
              "      <td>0.0</td>\n",
              "    </tr>\n",
              "  </tbody>\n",
              "</table>\n",
              "</div>"
            ],
            "text/plain": [
              "     user              first_open  ...  liked  difference\n",
              "0  235136 2012-12-27 02:14:51.273  ...      0         NaN\n",
              "1  333588 2012-12-02 01:16:00.905  ...      0         NaN\n",
              "2  254414 2013-03-19 19:19:09.157  ...      1         NaN\n",
              "3  234192 2013-07-05 16:08:46.354  ...      0         0.0\n",
              "4   51549 2013-02-26 18:50:48.661  ...      1         0.0\n",
              "\n",
              "[5 rows x 13 columns]"
            ]
          },
          "metadata": {
            "tags": []
          },
          "execution_count": 14
        }
      ]
    },
    {
      "cell_type": "code",
      "metadata": {
        "id": "fucCT_fSQ1JU",
        "colab_type": "code",
        "colab": {
          "base_uri": "https://localhost:8080/",
          "height": 265
        },
        "outputId": "50756e2e-2af5-42c3-ccd0-8513eef79b18"
      },
      "source": [
        "plt.hist(dataset['difference'].dropna())\n",
        "plt.show()"
      ],
      "execution_count": 15,
      "outputs": [
        {
          "output_type": "display_data",
          "data": {
            "image/png": "[encoded data removed]",
            "text/plain": [
              "<Figure size 432x288 with 1 Axes>"
            ]
          },
          "metadata": {
            "tags": [],
            "needs_background": "light"
          }
        }
      ]
    },
    {
      "cell_type": "code",
      "metadata": {
        "id": "_lUZ3WDKQ9oP",
        "colab_type": "code",
        "colab": {
          "base_uri": "https://localhost:8080/",
          "height": 279
        },
        "outputId": "78574ac2-4a36-4824-d942-2e34ab2f47f3"
      },
      "source": [
        "plt.hist(dataset['difference'].dropna() , range=[0,100])\n",
        "plt.xlabel('time in hrs')\n",
        "plt.show()"
      ],
      "execution_count": 16,
      "outputs": [
        {
          "output_type": "display_data",
          "data": {
            "image/png": "[encoded data removed]",
            "text/plain": [
              "<Figure size 432x288 with 1 Axes>"
            ]
          },
          "metadata": {
            "tags": [],
            "needs_background": "light"
          }
        }
      ]
    },
    {
      "cell_type": "code",
      "metadata": {
        "id": "yt7ElP2WRZkL",
        "colab_type": "code",
        "colab": {}
      },
      "source": [
        "dataset.loc[dataset.difference>48 , 'enrolled']=0"
      ],
      "execution_count": 17,
      "outputs": []
    },
    {
      "cell_type": "code",
      "metadata": {
        "id": "s_m0JOA2Rk4r",
        "colab_type": "code",
        "colab": {
          "base_uri": "https://localhost:8080/",
          "height": 309
        },
        "outputId": "337fcc6d-5956-4f1a-9f58-1ad34a27eb69"
      },
      "source": [
        "dataset.head()"
      ],
      "execution_count": 18,
      "outputs": [
        {
          "output_type": "execute_result",
          "data": {
            "text/html": [
              "<div>\n",
              "<style scoped>\n",
              "    .dataframe tbody tr th:only-of-type {\n",
              "        vertical-align: middle;\n",
              "    }\n",
              "\n",
              "    .dataframe tbody tr th {\n",
              "        vertical-align: top;\n",
              "    }\n",
              "\n",
              "    .dataframe thead th {\n",
              "        text-align: right;\n",
              "    }\n",
              "</style>\n",
              "<table border=\"1\" class=\"dataframe\">\n",
              "  <thead>\n",
              "    <tr style=\"text-align: right;\">\n",
              "      <th></th>\n",
              "      <th>user</th>\n",
              "      <th>first_open</th>\n",
              "      <th>dayofweek</th>\n",
              "      <th>hour</th>\n",
              "      <th>age</th>\n",
              "      <th>screen_list</th>\n",
              "      <th>numscreens</th>\n",
              "      <th>minigame</th>\n",
              "      <th>used_premium_feature</th>\n",
              "      <th>enrolled</th>\n",
              "      <th>enrolled_date</th>\n",
              "      <th>liked</th>\n",
              "      <th>difference</th>\n",
              "    </tr>\n",
              "  </thead>\n",
              "  <tbody>\n",
              "    <tr>\n",
              "      <th>0</th>\n",
              "      <td>235136</td>\n",
              "      <td>2012-12-27 02:14:51.273</td>\n",
              "      <td>3</td>\n",
              "      <td>2</td>\n",
              "      <td>23</td>\n",
              "      <td>idscreen,joinscreen,Cycle,product_review,ScanP...</td>\n",
              "      <td>15</td>\n",
              "      <td>0</td>\n",
              "      <td>0</td>\n",
              "      <td>0</td>\n",
              "      <td>NaT</td>\n",
              "      <td>0</td>\n",
              "      <td>NaN</td>\n",
              "    </tr>\n",
              "    <tr>\n",
              "      <th>1</th>\n",
              "      <td>333588</td>\n",
              "      <td>2012-12-02 01:16:00.905</td>\n",
              "      <td>6</td>\n",
              "      <td>1</td>\n",
              "      <td>24</td>\n",
              "      <td>joinscreen,product_review,product_review2,Scan...</td>\n",
              "      <td>13</td>\n",
              "      <td>0</td>\n",
              "      <td>0</td>\n",
              "      <td>0</td>\n",
              "      <td>NaT</td>\n",
              "      <td>0</td>\n",
              "      <td>NaN</td>\n",
              "    </tr>\n",
              "    <tr>\n",
              "      <th>2</th>\n",
              "      <td>254414</td>\n",
              "      <td>2013-03-19 19:19:09.157</td>\n",
              "      <td>1</td>\n",
              "      <td>19</td>\n",
              "      <td>23</td>\n",
              "      <td>Splash,Cycle,Loan</td>\n",
              "      <td>3</td>\n",
              "      <td>0</td>\n",
              "      <td>1</td>\n",
              "      <td>0</td>\n",
              "      <td>NaT</td>\n",
              "      <td>1</td>\n",
              "      <td>NaN</td>\n",
              "    </tr>\n",
              "    <tr>\n",
              "      <th>3</th>\n",
              "      <td>234192</td>\n",
              "      <td>2013-07-05 16:08:46.354</td>\n",
              "      <td>4</td>\n",
              "      <td>16</td>\n",
              "      <td>28</td>\n",
              "      <td>product_review,Home,product_review,Loan3,Finan...</td>\n",
              "      <td>40</td>\n",
              "      <td>0</td>\n",
              "      <td>0</td>\n",
              "      <td>1</td>\n",
              "      <td>2013-07-05 16:11:49.513</td>\n",
              "      <td>0</td>\n",
              "      <td>0.0</td>\n",
              "    </tr>\n",
              "    <tr>\n",
              "      <th>4</th>\n",
              "      <td>51549</td>\n",
              "      <td>2013-02-26 18:50:48.661</td>\n",
              "      <td>1</td>\n",
              "      <td>18</td>\n",
              "      <td>31</td>\n",
              "      <td>idscreen,joinscreen,Cycle,Credit3Container,Sca...</td>\n",
              "      <td>32</td>\n",
              "      <td>0</td>\n",
              "      <td>0</td>\n",
              "      <td>1</td>\n",
              "      <td>2013-02-26 18:56:37.841</td>\n",
              "      <td>1</td>\n",
              "      <td>0.0</td>\n",
              "    </tr>\n",
              "  </tbody>\n",
              "</table>\n",
              "</div>"
            ],
            "text/plain": [
              "     user              first_open  ...  liked  difference\n",
              "0  235136 2012-12-27 02:14:51.273  ...      0         NaN\n",
              "1  333588 2012-12-02 01:16:00.905  ...      0         NaN\n",
              "2  254414 2013-03-19 19:19:09.157  ...      1         NaN\n",
              "3  234192 2013-07-05 16:08:46.354  ...      0         0.0\n",
              "4   51549 2013-02-26 18:50:48.661  ...      1         0.0\n",
              "\n",
              "[5 rows x 13 columns]"
            ]
          },
          "metadata": {
            "tags": []
          },
          "execution_count": 18
        }
      ]
    },
    {
      "cell_type": "code",
      "metadata": {
        "id": "ApN0Buy1Ro5j",
        "colab_type": "code",
        "colab": {}
      },
      "source": [
        "dataset.drop(columns=['first_open' , 'enrolled_date' , 'difference'] , inplace=True)"
      ],
      "execution_count": 19,
      "outputs": []
    },
    {
      "cell_type": "code",
      "metadata": {
        "id": "Yx8JrmM6R1yf",
        "colab_type": "code",
        "colab": {
          "base_uri": "https://localhost:8080/",
          "height": 204
        },
        "outputId": "43823096-ce97-4966-a2b5-bca66606c455"
      },
      "source": [
        "dataset.head()"
      ],
      "execution_count": 20,
      "outputs": [
        {
          "output_type": "execute_result",
          "data": {
            "text/html": [
              "<div>\n",
              "<style scoped>\n",
              "    .dataframe tbody tr th:only-of-type {\n",
              "        vertical-align: middle;\n",
              "    }\n",
              "\n",
              "    .dataframe tbody tr th {\n",
              "        vertical-align: top;\n",
              "    }\n",
              "\n",
              "    .dataframe thead th {\n",
              "        text-align: right;\n",
              "    }\n",
              "</style>\n",
              "<table border=\"1\" class=\"dataframe\">\n",
              "  <thead>\n",
              "    <tr style=\"text-align: right;\">\n",
              "      <th></th>\n",
              "      <th>user</th>\n",
              "      <th>dayofweek</th>\n",
              "      <th>hour</th>\n",
              "      <th>age</th>\n",
              "      <th>screen_list</th>\n",
              "      <th>numscreens</th>\n",
              "      <th>minigame</th>\n",
              "      <th>used_premium_feature</th>\n",
              "      <th>enrolled</th>\n",
              "      <th>liked</th>\n",
              "    </tr>\n",
              "  </thead>\n",
              "  <tbody>\n",
              "    <tr>\n",
              "      <th>0</th>\n",
              "      <td>235136</td>\n",
              "      <td>3</td>\n",
              "      <td>2</td>\n",
              "      <td>23</td>\n",
              "      <td>idscreen,joinscreen,Cycle,product_review,ScanP...</td>\n",
              "      <td>15</td>\n",
              "      <td>0</td>\n",
              "      <td>0</td>\n",
              "      <td>0</td>\n",
              "      <td>0</td>\n",
              "    </tr>\n",
              "    <tr>\n",
              "      <th>1</th>\n",
              "      <td>333588</td>\n",
              "      <td>6</td>\n",
              "      <td>1</td>\n",
              "      <td>24</td>\n",
              "      <td>joinscreen,product_review,product_review2,Scan...</td>\n",
              "      <td>13</td>\n",
              "      <td>0</td>\n",
              "      <td>0</td>\n",
              "      <td>0</td>\n",
              "      <td>0</td>\n",
              "    </tr>\n",
              "    <tr>\n",
              "      <th>2</th>\n",
              "      <td>254414</td>\n",
              "      <td>1</td>\n",
              "      <td>19</td>\n",
              "      <td>23</td>\n",
              "      <td>Splash,Cycle,Loan</td>\n",
              "      <td>3</td>\n",
              "      <td>0</td>\n",
              "      <td>1</td>\n",
              "      <td>0</td>\n",
              "      <td>1</td>\n",
              "    </tr>\n",
              "    <tr>\n",
              "      <th>3</th>\n",
              "      <td>234192</td>\n",
              "      <td>4</td>\n",
              "      <td>16</td>\n",
              "      <td>28</td>\n",
              "      <td>product_review,Home,product_review,Loan3,Finan...</td>\n",
              "      <td>40</td>\n",
              "      <td>0</td>\n",
              "      <td>0</td>\n",
              "      <td>1</td>\n",
              "      <td>0</td>\n",
              "    </tr>\n",
              "    <tr>\n",
              "      <th>4</th>\n",
              "      <td>51549</td>\n",
              "      <td>1</td>\n",
              "      <td>18</td>\n",
              "      <td>31</td>\n",
              "      <td>idscreen,joinscreen,Cycle,Credit3Container,Sca...</td>\n",
              "      <td>32</td>\n",
              "      <td>0</td>\n",
              "      <td>0</td>\n",
              "      <td>1</td>\n",
              "      <td>1</td>\n",
              "    </tr>\n",
              "  </tbody>\n",
              "</table>\n",
              "</div>"
            ],
            "text/plain": [
              "     user  dayofweek  hour  ...  used_premium_feature enrolled  liked\n",
              "0  235136          3     2  ...                     0        0      0\n",
              "1  333588          6     1  ...                     0        0      0\n",
              "2  254414          1    19  ...                     1        0      1\n",
              "3  234192          4    16  ...                     0        1      0\n",
              "4   51549          1    18  ...                     0        1      1\n",
              "\n",
              "[5 rows x 10 columns]"
            ]
          },
          "metadata": {
            "tags": []
          },
          "execution_count": 20
        }
      ]
    },
    {
      "cell_type": "code",
      "metadata": {
        "id": "VyqxLXn0R5f8",
        "colab_type": "code",
        "colab": {
          "base_uri": "https://localhost:8080/",
          "height": 35
        },
        "outputId": "6ba594a7-34b1-41e4-d147-45e10c92fb7d"
      },
      "source": [
        "dataset['screen_list'][0]"
      ],
      "execution_count": 21,
      "outputs": [
        {
          "output_type": "execute_result",
          "data": {
            "application/vnd.google.colaboratory.intrinsic+json": {
              "type": "string"
            },
            "text/plain": [
              "'idscreen,joinscreen,Cycle,product_review,ScanPreview,VerifyDateOfBirth,VerifyPhone,VerifyToken,ProfileVerifySSN,Loan2,Settings,ForgotPassword,Login'"
            ]
          },
          "metadata": {
            "tags": []
          },
          "execution_count": 21
        }
      ]
    },
    {
      "cell_type": "code",
      "metadata": {
        "id": "qTTfhPYdR-EF",
        "colab_type": "code",
        "colab": {}
      },
      "source": [
        "dataset['screen_list'] = dataset.screen_list.astype(str)+','"
      ],
      "execution_count": 22,
      "outputs": []
    },
    {
      "cell_type": "code",
      "metadata": {
        "id": "_QOahJpJSGJc",
        "colab_type": "code",
        "colab": {
          "base_uri": "https://localhost:8080/",
          "height": 35
        },
        "outputId": "578c0ed0-7839-4c7b-9894-ceac4cd09ce5"
      },
      "source": [
        "dataset['screen_list'][0]"
      ],
      "execution_count": 23,
      "outputs": [
        {
          "output_type": "execute_result",
          "data": {
            "application/vnd.google.colaboratory.intrinsic+json": {
              "type": "string"
            },
            "text/plain": [
              "'idscreen,joinscreen,Cycle,product_review,ScanPreview,VerifyDateOfBirth,VerifyPhone,VerifyToken,ProfileVerifySSN,Loan2,Settings,ForgotPassword,Login,'"
            ]
          },
          "metadata": {
            "tags": []
          },
          "execution_count": 23
        }
      ]
    },
    {
      "cell_type": "code",
      "metadata": {
        "id": "FXiPI5w-SL4z",
        "colab_type": "code",
        "colab": {}
      },
      "source": [
        "top_screens = pd.read_csv('top_screens.csv')"
      ],
      "execution_count": 24,
      "outputs": []
    },
    {
      "cell_type": "code",
      "metadata": {
        "id": "s_RDE3zeSR22",
        "colab_type": "code",
        "colab": {
          "base_uri": "https://localhost:8080/",
          "height": 204
        },
        "outputId": "585ede03-56d9-4024-a63a-164dd1400035"
      },
      "source": [
        "top_screens.head()"
      ],
      "execution_count": 25,
      "outputs": [
        {
          "output_type": "execute_result",
          "data": {
            "text/html": [
              "<div>\n",
              "<style scoped>\n",
              "    .dataframe tbody tr th:only-of-type {\n",
              "        vertical-align: middle;\n",
              "    }\n",
              "\n",
              "    .dataframe tbody tr th {\n",
              "        vertical-align: top;\n",
              "    }\n",
              "\n",
              "    .dataframe thead th {\n",
              "        text-align: right;\n",
              "    }\n",
              "</style>\n",
              "<table border=\"1\" class=\"dataframe\">\n",
              "  <thead>\n",
              "    <tr style=\"text-align: right;\">\n",
              "      <th></th>\n",
              "      <th>Unnamed: 0</th>\n",
              "      <th>top_screens</th>\n",
              "    </tr>\n",
              "  </thead>\n",
              "  <tbody>\n",
              "    <tr>\n",
              "      <th>0</th>\n",
              "      <td>0</td>\n",
              "      <td>Loan2</td>\n",
              "    </tr>\n",
              "    <tr>\n",
              "      <th>1</th>\n",
              "      <td>1</td>\n",
              "      <td>location</td>\n",
              "    </tr>\n",
              "    <tr>\n",
              "      <th>2</th>\n",
              "      <td>2</td>\n",
              "      <td>Institutions</td>\n",
              "    </tr>\n",
              "    <tr>\n",
              "      <th>3</th>\n",
              "      <td>3</td>\n",
              "      <td>Credit3Container</td>\n",
              "    </tr>\n",
              "    <tr>\n",
              "      <th>4</th>\n",
              "      <td>4</td>\n",
              "      <td>VerifyPhone</td>\n",
              "    </tr>\n",
              "  </tbody>\n",
              "</table>\n",
              "</div>"
            ],
            "text/plain": [
              "   Unnamed: 0       top_screens\n",
              "0           0             Loan2\n",
              "1           1          location\n",
              "2           2      Institutions\n",
              "3           3  Credit3Container\n",
              "4           4       VerifyPhone"
            ]
          },
          "metadata": {
            "tags": []
          },
          "execution_count": 25
        }
      ]
    },
    {
      "cell_type": "code",
      "metadata": {
        "id": "eNWscJVBSU-c",
        "colab_type": "code",
        "colab": {}
      },
      "source": [
        "top_screens = top_screens['top_screens']"
      ],
      "execution_count": 26,
      "outputs": []
    },
    {
      "cell_type": "code",
      "metadata": {
        "id": "y2s1kKbzTdD8",
        "colab_type": "code",
        "colab": {}
      },
      "source": [
        "top_screens = top_screens.values"
      ],
      "execution_count": 27,
      "outputs": []
    },
    {
      "cell_type": "code",
      "metadata": {
        "id": "-Dm8IrJ2T9am",
        "colab_type": "code",
        "colab": {
          "base_uri": "https://localhost:8080/",
          "height": 272
        },
        "outputId": "de4d3a69-68f1-48c5-9c53-dc72972f4d30"
      },
      "source": [
        "top_screens"
      ],
      "execution_count": 28,
      "outputs": [
        {
          "output_type": "execute_result",
          "data": {
            "text/plain": [
              "array(['Loan2', 'location', 'Institutions', 'Credit3Container',\n",
              "       'VerifyPhone', 'BankVerification', 'VerifyDateOfBirth',\n",
              "       'ProfilePage', 'VerifyCountry', 'Cycle', 'idscreen',\n",
              "       'Credit3Dashboard', 'Loan3', 'CC1Category', 'Splash', 'Loan',\n",
              "       'CC1', 'RewardsContainer', 'Credit3', 'Credit1', 'EditProfile',\n",
              "       'Credit2', 'Finances', 'CC3', 'Saving9', 'Saving1', 'Alerts',\n",
              "       'Saving8', 'Saving10', 'Leaderboard', 'Saving4', 'VerifyMobile',\n",
              "       'VerifyHousing', 'RewardDetail', 'VerifyHousingAmount',\n",
              "       'ProfileMaritalStatus', 'ProfileChildren ', 'ProfileEducation',\n",
              "       'Saving7', 'ProfileEducationMajor', 'Rewards', 'AccountView',\n",
              "       'VerifyAnnualIncome', 'VerifyIncomeType', 'Saving2', 'Saving6',\n",
              "       'Saving2Amount', 'Saving5', 'ProfileJobTitle', 'Login',\n",
              "       'ProfileEmploymentLength', 'WebView', 'SecurityModal', 'Loan4',\n",
              "       'ResendToken', 'TransactionList', 'NetworkFailure', 'ListPicker'],\n",
              "      dtype=object)"
            ]
          },
          "metadata": {
            "tags": []
          },
          "execution_count": 28
        }
      ]
    },
    {
      "cell_type": "code",
      "metadata": {
        "id": "SRAd79AsWC55",
        "colab_type": "code",
        "colab": {}
      },
      "source": [
        "for sc  in top_screens:\n",
        "  dataset[sc] = dataset.screen_list.str.contains(sc).astype(int)\n",
        "  dataset['screen_list'] = dataset.screen_list.str.replace(sc+',' , '')"
      ],
      "execution_count": 29,
      "outputs": []
    },
    {
      "cell_type": "code",
      "metadata": {
        "id": "9N6PzZTqWbZY",
        "colab_type": "code",
        "colab": {}
      },
      "source": [
        "dataset['Other'] = dataset.screen_list.str.count(',')\n",
        "dataset = dataset.drop(columns=['screen_list'])"
      ],
      "execution_count": 30,
      "outputs": []
    },
    {
      "cell_type": "code",
      "metadata": {
        "id": "CZdetRVdW2J7",
        "colab_type": "code",
        "colab": {
          "base_uri": "https://localhost:8080/",
          "height": 224
        },
        "outputId": "4a17abbf-b9e5-401f-9a96-58f77f166efa"
      },
      "source": [
        "dataset.head()"
      ],
      "execution_count": 31,
      "outputs": [
        {
          "output_type": "execute_result",
          "data": {
            "text/html": [
              "<div>\n",
              "<style scoped>\n",
              "    .dataframe tbody tr th:only-of-type {\n",
              "        vertical-align: middle;\n",
              "    }\n",
              "\n",
              "    .dataframe tbody tr th {\n",
              "        vertical-align: top;\n",
              "    }\n",
              "\n",
              "    .dataframe thead th {\n",
              "        text-align: right;\n",
              "    }\n",
              "</style>\n",
              "<table border=\"1\" class=\"dataframe\">\n",
              "  <thead>\n",
              "    <tr style=\"text-align: right;\">\n",
              "      <th></th>\n",
              "      <th>user</th>\n",
              "      <th>dayofweek</th>\n",
              "      <th>hour</th>\n",
              "      <th>age</th>\n",
              "      <th>numscreens</th>\n",
              "      <th>minigame</th>\n",
              "      <th>used_premium_feature</th>\n",
              "      <th>enrolled</th>\n",
              "      <th>liked</th>\n",
              "      <th>Loan2</th>\n",
              "      <th>location</th>\n",
              "      <th>Institutions</th>\n",
              "      <th>Credit3Container</th>\n",
              "      <th>VerifyPhone</th>\n",
              "      <th>BankVerification</th>\n",
              "      <th>VerifyDateOfBirth</th>\n",
              "      <th>ProfilePage</th>\n",
              "      <th>VerifyCountry</th>\n",
              "      <th>Cycle</th>\n",
              "      <th>idscreen</th>\n",
              "      <th>Credit3Dashboard</th>\n",
              "      <th>Loan3</th>\n",
              "      <th>CC1Category</th>\n",
              "      <th>Splash</th>\n",
              "      <th>Loan</th>\n",
              "      <th>CC1</th>\n",
              "      <th>RewardsContainer</th>\n",
              "      <th>Credit3</th>\n",
              "      <th>Credit1</th>\n",
              "      <th>EditProfile</th>\n",
              "      <th>Credit2</th>\n",
              "      <th>Finances</th>\n",
              "      <th>CC3</th>\n",
              "      <th>Saving9</th>\n",
              "      <th>Saving1</th>\n",
              "      <th>Alerts</th>\n",
              "      <th>Saving8</th>\n",
              "      <th>Saving10</th>\n",
              "      <th>Leaderboard</th>\n",
              "      <th>Saving4</th>\n",
              "      <th>VerifyMobile</th>\n",
              "      <th>VerifyHousing</th>\n",
              "      <th>RewardDetail</th>\n",
              "      <th>VerifyHousingAmount</th>\n",
              "      <th>ProfileMaritalStatus</th>\n",
              "      <th>ProfileChildren</th>\n",
              "      <th>ProfileEducation</th>\n",
              "      <th>Saving7</th>\n",
              "      <th>ProfileEducationMajor</th>\n",
              "      <th>Rewards</th>\n",
              "      <th>AccountView</th>\n",
              "      <th>VerifyAnnualIncome</th>\n",
              "      <th>VerifyIncomeType</th>\n",
              "      <th>Saving2</th>\n",
              "      <th>Saving6</th>\n",
              "      <th>Saving2Amount</th>\n",
              "      <th>Saving5</th>\n",
              "      <th>ProfileJobTitle</th>\n",
              "      <th>Login</th>\n",
              "      <th>ProfileEmploymentLength</th>\n",
              "      <th>WebView</th>\n",
              "      <th>SecurityModal</th>\n",
              "      <th>Loan4</th>\n",
              "      <th>ResendToken</th>\n",
              "      <th>TransactionList</th>\n",
              "      <th>NetworkFailure</th>\n",
              "      <th>ListPicker</th>\n",
              "      <th>Other</th>\n",
              "    </tr>\n",
              "  </thead>\n",
              "  <tbody>\n",
              "    <tr>\n",
              "      <th>0</th>\n",
              "      <td>235136</td>\n",
              "      <td>3</td>\n",
              "      <td>2</td>\n",
              "      <td>23</td>\n",
              "      <td>15</td>\n",
              "      <td>0</td>\n",
              "      <td>0</td>\n",
              "      <td>0</td>\n",
              "      <td>0</td>\n",
              "      <td>1</td>\n",
              "      <td>0</td>\n",
              "      <td>0</td>\n",
              "      <td>0</td>\n",
              "      <td>1</td>\n",
              "      <td>0</td>\n",
              "      <td>1</td>\n",
              "      <td>0</td>\n",
              "      <td>0</td>\n",
              "      <td>1</td>\n",
              "      <td>1</td>\n",
              "      <td>0</td>\n",
              "      <td>0</td>\n",
              "      <td>0</td>\n",
              "      <td>0</td>\n",
              "      <td>0</td>\n",
              "      <td>0</td>\n",
              "      <td>0</td>\n",
              "      <td>0</td>\n",
              "      <td>0</td>\n",
              "      <td>0</td>\n",
              "      <td>0</td>\n",
              "      <td>0</td>\n",
              "      <td>0</td>\n",
              "      <td>0</td>\n",
              "      <td>0</td>\n",
              "      <td>0</td>\n",
              "      <td>0</td>\n",
              "      <td>0</td>\n",
              "      <td>0</td>\n",
              "      <td>0</td>\n",
              "      <td>0</td>\n",
              "      <td>0</td>\n",
              "      <td>0</td>\n",
              "      <td>0</td>\n",
              "      <td>0</td>\n",
              "      <td>0</td>\n",
              "      <td>0</td>\n",
              "      <td>0</td>\n",
              "      <td>0</td>\n",
              "      <td>0</td>\n",
              "      <td>0</td>\n",
              "      <td>0</td>\n",
              "      <td>0</td>\n",
              "      <td>0</td>\n",
              "      <td>0</td>\n",
              "      <td>0</td>\n",
              "      <td>0</td>\n",
              "      <td>0</td>\n",
              "      <td>1</td>\n",
              "      <td>0</td>\n",
              "      <td>0</td>\n",
              "      <td>0</td>\n",
              "      <td>0</td>\n",
              "      <td>0</td>\n",
              "      <td>0</td>\n",
              "      <td>0</td>\n",
              "      <td>0</td>\n",
              "      <td>7</td>\n",
              "    </tr>\n",
              "    <tr>\n",
              "      <th>1</th>\n",
              "      <td>333588</td>\n",
              "      <td>6</td>\n",
              "      <td>1</td>\n",
              "      <td>24</td>\n",
              "      <td>13</td>\n",
              "      <td>0</td>\n",
              "      <td>0</td>\n",
              "      <td>0</td>\n",
              "      <td>0</td>\n",
              "      <td>1</td>\n",
              "      <td>1</td>\n",
              "      <td>1</td>\n",
              "      <td>0</td>\n",
              "      <td>1</td>\n",
              "      <td>0</td>\n",
              "      <td>1</td>\n",
              "      <td>0</td>\n",
              "      <td>1</td>\n",
              "      <td>0</td>\n",
              "      <td>0</td>\n",
              "      <td>0</td>\n",
              "      <td>0</td>\n",
              "      <td>0</td>\n",
              "      <td>0</td>\n",
              "      <td>0</td>\n",
              "      <td>0</td>\n",
              "      <td>0</td>\n",
              "      <td>0</td>\n",
              "      <td>0</td>\n",
              "      <td>0</td>\n",
              "      <td>0</td>\n",
              "      <td>0</td>\n",
              "      <td>0</td>\n",
              "      <td>0</td>\n",
              "      <td>0</td>\n",
              "      <td>0</td>\n",
              "      <td>0</td>\n",
              "      <td>0</td>\n",
              "      <td>0</td>\n",
              "      <td>0</td>\n",
              "      <td>0</td>\n",
              "      <td>0</td>\n",
              "      <td>0</td>\n",
              "      <td>0</td>\n",
              "      <td>0</td>\n",
              "      <td>0</td>\n",
              "      <td>0</td>\n",
              "      <td>0</td>\n",
              "      <td>0</td>\n",
              "      <td>0</td>\n",
              "      <td>0</td>\n",
              "      <td>0</td>\n",
              "      <td>0</td>\n",
              "      <td>0</td>\n",
              "      <td>0</td>\n",
              "      <td>0</td>\n",
              "      <td>0</td>\n",
              "      <td>0</td>\n",
              "      <td>0</td>\n",
              "      <td>0</td>\n",
              "      <td>0</td>\n",
              "      <td>0</td>\n",
              "      <td>0</td>\n",
              "      <td>0</td>\n",
              "      <td>0</td>\n",
              "      <td>0</td>\n",
              "      <td>0</td>\n",
              "      <td>5</td>\n",
              "    </tr>\n",
              "    <tr>\n",
              "      <th>2</th>\n",
              "      <td>254414</td>\n",
              "      <td>1</td>\n",
              "      <td>19</td>\n",
              "      <td>23</td>\n",
              "      <td>3</td>\n",
              "      <td>0</td>\n",
              "      <td>1</td>\n",
              "      <td>0</td>\n",
              "      <td>1</td>\n",
              "      <td>0</td>\n",
              "      <td>0</td>\n",
              "      <td>0</td>\n",
              "      <td>0</td>\n",
              "      <td>0</td>\n",
              "      <td>0</td>\n",
              "      <td>0</td>\n",
              "      <td>0</td>\n",
              "      <td>0</td>\n",
              "      <td>1</td>\n",
              "      <td>0</td>\n",
              "      <td>0</td>\n",
              "      <td>0</td>\n",
              "      <td>0</td>\n",
              "      <td>1</td>\n",
              "      <td>1</td>\n",
              "      <td>0</td>\n",
              "      <td>0</td>\n",
              "      <td>0</td>\n",
              "      <td>0</td>\n",
              "      <td>0</td>\n",
              "      <td>0</td>\n",
              "      <td>0</td>\n",
              "      <td>0</td>\n",
              "      <td>0</td>\n",
              "      <td>0</td>\n",
              "      <td>0</td>\n",
              "      <td>0</td>\n",
              "      <td>0</td>\n",
              "      <td>0</td>\n",
              "      <td>0</td>\n",
              "      <td>0</td>\n",
              "      <td>0</td>\n",
              "      <td>0</td>\n",
              "      <td>0</td>\n",
              "      <td>0</td>\n",
              "      <td>0</td>\n",
              "      <td>0</td>\n",
              "      <td>0</td>\n",
              "      <td>0</td>\n",
              "      <td>0</td>\n",
              "      <td>0</td>\n",
              "      <td>0</td>\n",
              "      <td>0</td>\n",
              "      <td>0</td>\n",
              "      <td>0</td>\n",
              "      <td>0</td>\n",
              "      <td>0</td>\n",
              "      <td>0</td>\n",
              "      <td>0</td>\n",
              "      <td>0</td>\n",
              "      <td>0</td>\n",
              "      <td>0</td>\n",
              "      <td>0</td>\n",
              "      <td>0</td>\n",
              "      <td>0</td>\n",
              "      <td>0</td>\n",
              "      <td>0</td>\n",
              "      <td>0</td>\n",
              "    </tr>\n",
              "    <tr>\n",
              "      <th>3</th>\n",
              "      <td>234192</td>\n",
              "      <td>4</td>\n",
              "      <td>16</td>\n",
              "      <td>28</td>\n",
              "      <td>40</td>\n",
              "      <td>0</td>\n",
              "      <td>0</td>\n",
              "      <td>1</td>\n",
              "      <td>0</td>\n",
              "      <td>0</td>\n",
              "      <td>1</td>\n",
              "      <td>0</td>\n",
              "      <td>0</td>\n",
              "      <td>1</td>\n",
              "      <td>0</td>\n",
              "      <td>1</td>\n",
              "      <td>0</td>\n",
              "      <td>0</td>\n",
              "      <td>0</td>\n",
              "      <td>0</td>\n",
              "      <td>0</td>\n",
              "      <td>1</td>\n",
              "      <td>0</td>\n",
              "      <td>0</td>\n",
              "      <td>0</td>\n",
              "      <td>0</td>\n",
              "      <td>0</td>\n",
              "      <td>1</td>\n",
              "      <td>1</td>\n",
              "      <td>0</td>\n",
              "      <td>1</td>\n",
              "      <td>1</td>\n",
              "      <td>0</td>\n",
              "      <td>0</td>\n",
              "      <td>0</td>\n",
              "      <td>0</td>\n",
              "      <td>0</td>\n",
              "      <td>0</td>\n",
              "      <td>1</td>\n",
              "      <td>0</td>\n",
              "      <td>0</td>\n",
              "      <td>0</td>\n",
              "      <td>1</td>\n",
              "      <td>0</td>\n",
              "      <td>0</td>\n",
              "      <td>0</td>\n",
              "      <td>0</td>\n",
              "      <td>0</td>\n",
              "      <td>0</td>\n",
              "      <td>1</td>\n",
              "      <td>0</td>\n",
              "      <td>0</td>\n",
              "      <td>0</td>\n",
              "      <td>0</td>\n",
              "      <td>0</td>\n",
              "      <td>0</td>\n",
              "      <td>0</td>\n",
              "      <td>0</td>\n",
              "      <td>0</td>\n",
              "      <td>0</td>\n",
              "      <td>0</td>\n",
              "      <td>0</td>\n",
              "      <td>0</td>\n",
              "      <td>0</td>\n",
              "      <td>0</td>\n",
              "      <td>0</td>\n",
              "      <td>0</td>\n",
              "      <td>6</td>\n",
              "    </tr>\n",
              "    <tr>\n",
              "      <th>4</th>\n",
              "      <td>51549</td>\n",
              "      <td>1</td>\n",
              "      <td>18</td>\n",
              "      <td>31</td>\n",
              "      <td>32</td>\n",
              "      <td>0</td>\n",
              "      <td>0</td>\n",
              "      <td>1</td>\n",
              "      <td>1</td>\n",
              "      <td>1</td>\n",
              "      <td>0</td>\n",
              "      <td>1</td>\n",
              "      <td>1</td>\n",
              "      <td>1</td>\n",
              "      <td>1</td>\n",
              "      <td>0</td>\n",
              "      <td>0</td>\n",
              "      <td>1</td>\n",
              "      <td>1</td>\n",
              "      <td>1</td>\n",
              "      <td>0</td>\n",
              "      <td>0</td>\n",
              "      <td>0</td>\n",
              "      <td>0</td>\n",
              "      <td>0</td>\n",
              "      <td>0</td>\n",
              "      <td>0</td>\n",
              "      <td>0</td>\n",
              "      <td>1</td>\n",
              "      <td>0</td>\n",
              "      <td>0</td>\n",
              "      <td>0</td>\n",
              "      <td>0</td>\n",
              "      <td>0</td>\n",
              "      <td>0</td>\n",
              "      <td>0</td>\n",
              "      <td>0</td>\n",
              "      <td>0</td>\n",
              "      <td>0</td>\n",
              "      <td>0</td>\n",
              "      <td>0</td>\n",
              "      <td>0</td>\n",
              "      <td>0</td>\n",
              "      <td>0</td>\n",
              "      <td>0</td>\n",
              "      <td>0</td>\n",
              "      <td>0</td>\n",
              "      <td>0</td>\n",
              "      <td>0</td>\n",
              "      <td>0</td>\n",
              "      <td>0</td>\n",
              "      <td>0</td>\n",
              "      <td>0</td>\n",
              "      <td>0</td>\n",
              "      <td>0</td>\n",
              "      <td>0</td>\n",
              "      <td>0</td>\n",
              "      <td>0</td>\n",
              "      <td>0</td>\n",
              "      <td>0</td>\n",
              "      <td>0</td>\n",
              "      <td>0</td>\n",
              "      <td>0</td>\n",
              "      <td>0</td>\n",
              "      <td>0</td>\n",
              "      <td>0</td>\n",
              "      <td>0</td>\n",
              "      <td>10</td>\n",
              "    </tr>\n",
              "  </tbody>\n",
              "</table>\n",
              "</div>"
            ],
            "text/plain": [
              "     user  dayofweek  hour  ...  NetworkFailure  ListPicker  Other\n",
              "0  235136          3     2  ...               0           0      7\n",
              "1  333588          6     1  ...               0           0      5\n",
              "2  254414          1    19  ...               0           0      0\n",
              "3  234192          4    16  ...               0           0      6\n",
              "4   51549          1    18  ...               0           0     10\n",
              "\n",
              "[5 rows x 68 columns]"
            ]
          },
          "metadata": {
            "tags": []
          },
          "execution_count": 31
        }
      ]
    },
    {
      "cell_type": "code",
      "metadata": {
        "id": "Y86aQU8UXT1j",
        "colab_type": "code",
        "colab": {}
      },
      "source": [
        "savings_screens = [\"Saving1\",\n",
        "                    \"Saving2\",\n",
        "                    \"Saving2Amount\",\n",
        "                    \"Saving4\",\n",
        "                    \"Saving5\",\n",
        "                    \"Saving6\",\n",
        "                    \"Saving7\",\n",
        "                    \"Saving8\",\n",
        "                    \"Saving9\",\n",
        "                    \"Saving10\"]\n",
        "dataset[\"SavingCount\"] = dataset[savings_screens].sum(axis=1)\n",
        "dataset = dataset.drop(columns=savings_screens)\n",
        "\n",
        "cm_screens = [\"Credit1\",\n",
        "               \"Credit2\",\n",
        "               \"Credit3\",\n",
        "               \"Credit3Container\",\n",
        "               \"Credit3Dashboard\"]\n",
        "dataset[\"CMCount\"] = dataset[cm_screens].sum(axis=1)\n",
        "dataset = dataset.drop(columns=cm_screens)\n",
        "\n",
        "cc_screens = [\"CC1\",\n",
        "                \"CC1Category\",\n",
        "                \"CC3\"]\n",
        "dataset[\"CCCount\"] = dataset[cc_screens].sum(axis=1)\n",
        "dataset = dataset.drop(columns=cc_screens)\n",
        "\n",
        "loan_screens = [\"Loan\",\n",
        "               \"Loan2\",\n",
        "               \"Loan3\",\n",
        "               \"Loan4\"]\n",
        "dataset[\"LoansCount\"] = dataset[loan_screens].sum(axis=1)\n",
        "dataset = dataset.drop(columns=loan_screens)\n"
      ],
      "execution_count": 32,
      "outputs": []
    },
    {
      "cell_type": "code",
      "metadata": {
        "id": "UWplbYO2YNct",
        "colab_type": "code",
        "colab": {
          "base_uri": "https://localhost:8080/",
          "height": 224
        },
        "outputId": "e0bbda22-9b4e-46d2-f6de-72d22cb042d3"
      },
      "source": [
        "dataset.head()"
      ],
      "execution_count": 33,
      "outputs": [
        {
          "output_type": "execute_result",
          "data": {
            "text/html": [
              "<div>\n",
              "<style scoped>\n",
              "    .dataframe tbody tr th:only-of-type {\n",
              "        vertical-align: middle;\n",
              "    }\n",
              "\n",
              "    .dataframe tbody tr th {\n",
              "        vertical-align: top;\n",
              "    }\n",
              "\n",
              "    .dataframe thead th {\n",
              "        text-align: right;\n",
              "    }\n",
              "</style>\n",
              "<table border=\"1\" class=\"dataframe\">\n",
              "  <thead>\n",
              "    <tr style=\"text-align: right;\">\n",
              "      <th></th>\n",
              "      <th>user</th>\n",
              "      <th>dayofweek</th>\n",
              "      <th>hour</th>\n",
              "      <th>age</th>\n",
              "      <th>numscreens</th>\n",
              "      <th>minigame</th>\n",
              "      <th>used_premium_feature</th>\n",
              "      <th>enrolled</th>\n",
              "      <th>liked</th>\n",
              "      <th>location</th>\n",
              "      <th>Institutions</th>\n",
              "      <th>VerifyPhone</th>\n",
              "      <th>BankVerification</th>\n",
              "      <th>VerifyDateOfBirth</th>\n",
              "      <th>ProfilePage</th>\n",
              "      <th>VerifyCountry</th>\n",
              "      <th>Cycle</th>\n",
              "      <th>idscreen</th>\n",
              "      <th>Splash</th>\n",
              "      <th>RewardsContainer</th>\n",
              "      <th>EditProfile</th>\n",
              "      <th>Finances</th>\n",
              "      <th>Alerts</th>\n",
              "      <th>Leaderboard</th>\n",
              "      <th>VerifyMobile</th>\n",
              "      <th>VerifyHousing</th>\n",
              "      <th>RewardDetail</th>\n",
              "      <th>VerifyHousingAmount</th>\n",
              "      <th>ProfileMaritalStatus</th>\n",
              "      <th>ProfileChildren</th>\n",
              "      <th>ProfileEducation</th>\n",
              "      <th>ProfileEducationMajor</th>\n",
              "      <th>Rewards</th>\n",
              "      <th>AccountView</th>\n",
              "      <th>VerifyAnnualIncome</th>\n",
              "      <th>VerifyIncomeType</th>\n",
              "      <th>ProfileJobTitle</th>\n",
              "      <th>Login</th>\n",
              "      <th>ProfileEmploymentLength</th>\n",
              "      <th>WebView</th>\n",
              "      <th>SecurityModal</th>\n",
              "      <th>ResendToken</th>\n",
              "      <th>TransactionList</th>\n",
              "      <th>NetworkFailure</th>\n",
              "      <th>ListPicker</th>\n",
              "      <th>Other</th>\n",
              "      <th>SavingCount</th>\n",
              "      <th>CMCount</th>\n",
              "      <th>CCCount</th>\n",
              "      <th>LoansCount</th>\n",
              "    </tr>\n",
              "  </thead>\n",
              "  <tbody>\n",
              "    <tr>\n",
              "      <th>0</th>\n",
              "      <td>235136</td>\n",
              "      <td>3</td>\n",
              "      <td>2</td>\n",
              "      <td>23</td>\n",
              "      <td>15</td>\n",
              "      <td>0</td>\n",
              "      <td>0</td>\n",
              "      <td>0</td>\n",
              "      <td>0</td>\n",
              "      <td>0</td>\n",
              "      <td>0</td>\n",
              "      <td>1</td>\n",
              "      <td>0</td>\n",
              "      <td>1</td>\n",
              "      <td>0</td>\n",
              "      <td>0</td>\n",
              "      <td>1</td>\n",
              "      <td>1</td>\n",
              "      <td>0</td>\n",
              "      <td>0</td>\n",
              "      <td>0</td>\n",
              "      <td>0</td>\n",
              "      <td>0</td>\n",
              "      <td>0</td>\n",
              "      <td>0</td>\n",
              "      <td>0</td>\n",
              "      <td>0</td>\n",
              "      <td>0</td>\n",
              "      <td>0</td>\n",
              "      <td>0</td>\n",
              "      <td>0</td>\n",
              "      <td>0</td>\n",
              "      <td>0</td>\n",
              "      <td>0</td>\n",
              "      <td>0</td>\n",
              "      <td>0</td>\n",
              "      <td>0</td>\n",
              "      <td>1</td>\n",
              "      <td>0</td>\n",
              "      <td>0</td>\n",
              "      <td>0</td>\n",
              "      <td>0</td>\n",
              "      <td>0</td>\n",
              "      <td>0</td>\n",
              "      <td>0</td>\n",
              "      <td>7</td>\n",
              "      <td>0</td>\n",
              "      <td>0</td>\n",
              "      <td>0</td>\n",
              "      <td>1</td>\n",
              "    </tr>\n",
              "    <tr>\n",
              "      <th>1</th>\n",
              "      <td>333588</td>\n",
              "      <td>6</td>\n",
              "      <td>1</td>\n",
              "      <td>24</td>\n",
              "      <td>13</td>\n",
              "      <td>0</td>\n",
              "      <td>0</td>\n",
              "      <td>0</td>\n",
              "      <td>0</td>\n",
              "      <td>1</td>\n",
              "      <td>1</td>\n",
              "      <td>1</td>\n",
              "      <td>0</td>\n",
              "      <td>1</td>\n",
              "      <td>0</td>\n",
              "      <td>1</td>\n",
              "      <td>0</td>\n",
              "      <td>0</td>\n",
              "      <td>0</td>\n",
              "      <td>0</td>\n",
              "      <td>0</td>\n",
              "      <td>0</td>\n",
              "      <td>0</td>\n",
              "      <td>0</td>\n",
              "      <td>0</td>\n",
              "      <td>0</td>\n",
              "      <td>0</td>\n",
              "      <td>0</td>\n",
              "      <td>0</td>\n",
              "      <td>0</td>\n",
              "      <td>0</td>\n",
              "      <td>0</td>\n",
              "      <td>0</td>\n",
              "      <td>0</td>\n",
              "      <td>0</td>\n",
              "      <td>0</td>\n",
              "      <td>0</td>\n",
              "      <td>0</td>\n",
              "      <td>0</td>\n",
              "      <td>0</td>\n",
              "      <td>0</td>\n",
              "      <td>0</td>\n",
              "      <td>0</td>\n",
              "      <td>0</td>\n",
              "      <td>0</td>\n",
              "      <td>5</td>\n",
              "      <td>0</td>\n",
              "      <td>0</td>\n",
              "      <td>0</td>\n",
              "      <td>1</td>\n",
              "    </tr>\n",
              "    <tr>\n",
              "      <th>2</th>\n",
              "      <td>254414</td>\n",
              "      <td>1</td>\n",
              "      <td>19</td>\n",
              "      <td>23</td>\n",
              "      <td>3</td>\n",
              "      <td>0</td>\n",
              "      <td>1</td>\n",
              "      <td>0</td>\n",
              "      <td>1</td>\n",
              "      <td>0</td>\n",
              "      <td>0</td>\n",
              "      <td>0</td>\n",
              "      <td>0</td>\n",
              "      <td>0</td>\n",
              "      <td>0</td>\n",
              "      <td>0</td>\n",
              "      <td>1</td>\n",
              "      <td>0</td>\n",
              "      <td>1</td>\n",
              "      <td>0</td>\n",
              "      <td>0</td>\n",
              "      <td>0</td>\n",
              "      <td>0</td>\n",
              "      <td>0</td>\n",
              "      <td>0</td>\n",
              "      <td>0</td>\n",
              "      <td>0</td>\n",
              "      <td>0</td>\n",
              "      <td>0</td>\n",
              "      <td>0</td>\n",
              "      <td>0</td>\n",
              "      <td>0</td>\n",
              "      <td>0</td>\n",
              "      <td>0</td>\n",
              "      <td>0</td>\n",
              "      <td>0</td>\n",
              "      <td>0</td>\n",
              "      <td>0</td>\n",
              "      <td>0</td>\n",
              "      <td>0</td>\n",
              "      <td>0</td>\n",
              "      <td>0</td>\n",
              "      <td>0</td>\n",
              "      <td>0</td>\n",
              "      <td>0</td>\n",
              "      <td>0</td>\n",
              "      <td>0</td>\n",
              "      <td>0</td>\n",
              "      <td>0</td>\n",
              "      <td>1</td>\n",
              "    </tr>\n",
              "    <tr>\n",
              "      <th>3</th>\n",
              "      <td>234192</td>\n",
              "      <td>4</td>\n",
              "      <td>16</td>\n",
              "      <td>28</td>\n",
              "      <td>40</td>\n",
              "      <td>0</td>\n",
              "      <td>0</td>\n",
              "      <td>1</td>\n",
              "      <td>0</td>\n",
              "      <td>1</td>\n",
              "      <td>0</td>\n",
              "      <td>1</td>\n",
              "      <td>0</td>\n",
              "      <td>1</td>\n",
              "      <td>0</td>\n",
              "      <td>0</td>\n",
              "      <td>0</td>\n",
              "      <td>0</td>\n",
              "      <td>0</td>\n",
              "      <td>0</td>\n",
              "      <td>0</td>\n",
              "      <td>1</td>\n",
              "      <td>0</td>\n",
              "      <td>1</td>\n",
              "      <td>0</td>\n",
              "      <td>0</td>\n",
              "      <td>1</td>\n",
              "      <td>0</td>\n",
              "      <td>0</td>\n",
              "      <td>0</td>\n",
              "      <td>0</td>\n",
              "      <td>0</td>\n",
              "      <td>1</td>\n",
              "      <td>0</td>\n",
              "      <td>0</td>\n",
              "      <td>0</td>\n",
              "      <td>0</td>\n",
              "      <td>0</td>\n",
              "      <td>0</td>\n",
              "      <td>0</td>\n",
              "      <td>0</td>\n",
              "      <td>0</td>\n",
              "      <td>0</td>\n",
              "      <td>0</td>\n",
              "      <td>0</td>\n",
              "      <td>6</td>\n",
              "      <td>0</td>\n",
              "      <td>3</td>\n",
              "      <td>0</td>\n",
              "      <td>1</td>\n",
              "    </tr>\n",
              "    <tr>\n",
              "      <th>4</th>\n",
              "      <td>51549</td>\n",
              "      <td>1</td>\n",
              "      <td>18</td>\n",
              "      <td>31</td>\n",
              "      <td>32</td>\n",
              "      <td>0</td>\n",
              "      <td>0</td>\n",
              "      <td>1</td>\n",
              "      <td>1</td>\n",
              "      <td>0</td>\n",
              "      <td>1</td>\n",
              "      <td>1</td>\n",
              "      <td>1</td>\n",
              "      <td>0</td>\n",
              "      <td>0</td>\n",
              "      <td>1</td>\n",
              "      <td>1</td>\n",
              "      <td>1</td>\n",
              "      <td>0</td>\n",
              "      <td>0</td>\n",
              "      <td>0</td>\n",
              "      <td>0</td>\n",
              "      <td>0</td>\n",
              "      <td>0</td>\n",
              "      <td>0</td>\n",
              "      <td>0</td>\n",
              "      <td>0</td>\n",
              "      <td>0</td>\n",
              "      <td>0</td>\n",
              "      <td>0</td>\n",
              "      <td>0</td>\n",
              "      <td>0</td>\n",
              "      <td>0</td>\n",
              "      <td>0</td>\n",
              "      <td>0</td>\n",
              "      <td>0</td>\n",
              "      <td>0</td>\n",
              "      <td>0</td>\n",
              "      <td>0</td>\n",
              "      <td>0</td>\n",
              "      <td>0</td>\n",
              "      <td>0</td>\n",
              "      <td>0</td>\n",
              "      <td>0</td>\n",
              "      <td>0</td>\n",
              "      <td>10</td>\n",
              "      <td>0</td>\n",
              "      <td>2</td>\n",
              "      <td>0</td>\n",
              "      <td>1</td>\n",
              "    </tr>\n",
              "  </tbody>\n",
              "</table>\n",
              "</div>"
            ],
            "text/plain": [
              "     user  dayofweek  hour  age  ...  SavingCount  CMCount  CCCount  LoansCount\n",
              "0  235136          3     2   23  ...            0        0        0           1\n",
              "1  333588          6     1   24  ...            0        0        0           1\n",
              "2  254414          1    19   23  ...            0        0        0           1\n",
              "3  234192          4    16   28  ...            0        3        0           1\n",
              "4   51549          1    18   31  ...            0        2        0           1\n",
              "\n",
              "[5 rows x 50 columns]"
            ]
          },
          "metadata": {
            "tags": []
          },
          "execution_count": 33
        }
      ]
    },
    {
      "cell_type": "code",
      "metadata": {
        "id": "gbp6i8W7YUII",
        "colab_type": "code",
        "colab": {}
      },
      "source": [
        "response = dataset['enrolled']\n",
        "dataset = dataset.drop(columns=['user' , 'enrolled'])"
      ],
      "execution_count": 34,
      "outputs": []
    },
    {
      "cell_type": "code",
      "metadata": {
        "id": "N34x7IzcYfOu",
        "colab_type": "code",
        "colab": {}
      },
      "source": [
        "response = np.array(response)\n",
        "dataset = np.array(dataset)"
      ],
      "execution_count": 35,
      "outputs": []
    },
    {
      "cell_type": "code",
      "metadata": {
        "id": "Tnb4676oY42J",
        "colab_type": "code",
        "colab": {
          "base_uri": "https://localhost:8080/",
          "height": 34
        },
        "outputId": "f21bf582-750e-45bb-97c0-fe4fa3a8b90b"
      },
      "source": [
        "response[0]"
      ],
      "execution_count": 36,
      "outputs": [
        {
          "output_type": "execute_result",
          "data": {
            "text/plain": [
              "0"
            ]
          },
          "metadata": {
            "tags": []
          },
          "execution_count": 36
        }
      ]
    },
    {
      "cell_type": "code",
      "metadata": {
        "id": "pg-LKPbIY8Ci",
        "colab_type": "code",
        "colab": {
          "base_uri": "https://localhost:8080/",
          "height": 68
        },
        "outputId": "3361b169-551e-48db-ac4b-ddd4ef898d12"
      },
      "source": [
        "dataset[0]"
      ],
      "execution_count": 37,
      "outputs": [
        {
          "output_type": "execute_result",
          "data": {
            "text/plain": [
              "array([ 3,  2, 23, 15,  0,  0,  0,  0,  0,  1,  0,  1,  0,  0,  1,  1,  0,\n",
              "        0,  0,  0,  0,  0,  0,  0,  0,  0,  0,  0,  0,  0,  0,  0,  0,  0,\n",
              "        0,  1,  0,  0,  0,  0,  0,  0,  0,  7,  0,  0,  0,  1])"
            ]
          },
          "metadata": {
            "tags": []
          },
          "execution_count": 37
        }
      ]
    },
    {
      "cell_type": "code",
      "metadata": {
        "id": "_SKrd3rRZDsT",
        "colab_type": "code",
        "colab": {
          "base_uri": "https://localhost:8080/",
          "height": 34
        },
        "outputId": "4c2beddf-d150-411a-bc4b-627a02bf037e"
      },
      "source": [
        "dataset.shape"
      ],
      "execution_count": 38,
      "outputs": [
        {
          "output_type": "execute_result",
          "data": {
            "text/plain": [
              "(50000, 48)"
            ]
          },
          "metadata": {
            "tags": []
          },
          "execution_count": 38
        }
      ]
    },
    {
      "cell_type": "code",
      "metadata": {
        "id": "fFm6xwg0ZGJf",
        "colab_type": "code",
        "colab": {
          "base_uri": "https://localhost:8080/",
          "height": 34
        },
        "outputId": "2a24f9e3-6cb5-464d-b69a-bfb361902844"
      },
      "source": [
        "response.shape"
      ],
      "execution_count": 39,
      "outputs": [
        {
          "output_type": "execute_result",
          "data": {
            "text/plain": [
              "(50000,)"
            ]
          },
          "metadata": {
            "tags": []
          },
          "execution_count": 39
        }
      ]
    },
    {
      "cell_type": "code",
      "metadata": {
        "id": "6NW_hjsAZkpF",
        "colab_type": "code",
        "colab": {}
      },
      "source": [
        "from sklearn.model_selection import train_test_split\n",
        "x_train , x_test , y_train , y_test = train_test_split(dataset , response , test_size=0.3 , random_state=0)"
      ],
      "execution_count": 40,
      "outputs": []
    },
    {
      "cell_type": "code",
      "metadata": {
        "id": "kp94xmytZyiZ",
        "colab_type": "code",
        "colab": {
          "base_uri": "https://localhost:8080/",
          "height": 136
        },
        "outputId": "0ba89272-45d5-4970-9029-969369ef8ebe"
      },
      "source": [
        "x_train"
      ],
      "execution_count": 41,
      "outputs": [
        {
          "output_type": "execute_result",
          "data": {
            "text/plain": [
              "array([[ 3,  2, 27, ...,  3,  0,  1],\n",
              "       [ 1, 15, 20, ...,  1,  0,  1],\n",
              "       [ 1, 17, 31, ...,  1,  0,  1],\n",
              "       ...,\n",
              "       [ 3,  6, 25, ...,  0,  0,  0],\n",
              "       [ 4, 13, 27, ...,  0,  0,  0],\n",
              "       [ 1, 18, 20, ...,  0,  0,  1]])"
            ]
          },
          "metadata": {
            "tags": []
          },
          "execution_count": 41
        }
      ]
    },
    {
      "cell_type": "code",
      "metadata": {
        "id": "wTkJF8ZJZ1A5",
        "colab_type": "code",
        "colab": {
          "base_uri": "https://localhost:8080/",
          "height": 34
        },
        "outputId": "857b51a7-9675-443b-921a-4b86d1602c49"
      },
      "source": [
        "y_train"
      ],
      "execution_count": 42,
      "outputs": [
        {
          "output_type": "execute_result",
          "data": {
            "text/plain": [
              "array([1, 0, 0, ..., 0, 0, 1])"
            ]
          },
          "metadata": {
            "tags": []
          },
          "execution_count": 42
        }
      ]
    },
    {
      "cell_type": "code",
      "metadata": {
        "id": "Z9_kHaHnZ3M2",
        "colab_type": "code",
        "colab": {
          "base_uri": "https://localhost:8080/",
          "height": 34
        },
        "outputId": "3c14109d-4a9b-40de-b2c0-4a7be954c9f5"
      },
      "source": [
        "x_train.shape"
      ],
      "execution_count": 43,
      "outputs": [
        {
          "output_type": "execute_result",
          "data": {
            "text/plain": [
              "(35000, 48)"
            ]
          },
          "metadata": {
            "tags": []
          },
          "execution_count": 43
        }
      ]
    },
    {
      "cell_type": "code",
      "metadata": {
        "id": "q-RQlqEfZ6if",
        "colab_type": "code",
        "colab": {}
      },
      "source": [
        "from sklearn.preprocessing import StandardScaler\n",
        "sc = StandardScaler()\n",
        "x_train = sc.fit_transform(x_train)\n",
        "x_test = sc.transform(x_test)"
      ],
      "execution_count": 44,
      "outputs": []
    },
    {
      "cell_type": "code",
      "metadata": {
        "id": "i1TegHUbaG9P",
        "colab_type": "code",
        "colab": {
          "base_uri": "https://localhost:8080/",
          "height": 85
        },
        "outputId": "0de672a4-03bb-46b0-aed0-8e9cfe01ffb8"
      },
      "source": [
        "from sklearn.svm import SVC\n",
        "classifier = SVC(kernel='rbf')\n",
        "classifier.fit(x_train , y_train)"
      ],
      "execution_count": 45,
      "outputs": [
        {
          "output_type": "execute_result",
          "data": {
            "text/plain": [
              "SVC(C=1.0, break_ties=False, cache_size=200, class_weight=None, coef0=0.0,\n",
              "    decision_function_shape='ovr', degree=3, gamma='scale', kernel='rbf',\n",
              "    max_iter=-1, probability=False, random_state=None, shrinking=True,\n",
              "    tol=0.001, verbose=False)"
            ]
          },
          "metadata": {
            "tags": []
          },
          "execution_count": 45
        }
      ]
    },
    {
      "cell_type": "code",
      "metadata": {
        "id": "HX3_1gjsbCBc",
        "colab_type": "code",
        "colab": {}
      },
      "source": [
        "y_pred = classifier.predict(x_test)"
      ],
      "execution_count": 46,
      "outputs": []
    },
    {
      "cell_type": "code",
      "metadata": {
        "id": "Z0d4vbcVbQEL",
        "colab_type": "code",
        "colab": {
          "base_uri": "https://localhost:8080/",
          "height": 34
        },
        "outputId": "df275285-740d-46f3-c1fa-8fb0f1724f93"
      },
      "source": [
        "y_pred"
      ],
      "execution_count": 47,
      "outputs": [
        {
          "output_type": "execute_result",
          "data": {
            "text/plain": [
              "array([1, 1, 0, ..., 0, 0, 0])"
            ]
          },
          "metadata": {
            "tags": []
          },
          "execution_count": 47
        }
      ]
    },
    {
      "cell_type": "code",
      "metadata": {
        "id": "V2sO69SnbGaF",
        "colab_type": "code",
        "colab": {
          "base_uri": "https://localhost:8080/",
          "height": 51
        },
        "outputId": "ee82b52f-108c-4636-b764-47ad23a0a5d6"
      },
      "source": [
        "from sklearn.metrics import confusion_matrix\n",
        "cm = confusion_matrix(y_test , y_pred)\n",
        "cm"
      ],
      "execution_count": 48,
      "outputs": [
        {
          "output_type": "execute_result",
          "data": {
            "text/plain": [
              "array([[6094, 1452],\n",
              "       [1848, 5606]])"
            ]
          },
          "metadata": {
            "tags": []
          },
          "execution_count": 48
        }
      ]
    },
    {
      "cell_type": "code",
      "metadata": {
        "id": "MR6zocdZbVBp",
        "colab_type": "code",
        "colab": {
          "base_uri": "https://localhost:8080/",
          "height": 34
        },
        "outputId": "d9c748a9-5b0b-4e77-c73e-5acc800624d4"
      },
      "source": [
        "from sklearn.metrics import accuracy_score\n",
        "accuracy_score(y_test , y_pred)"
      ],
      "execution_count": 49,
      "outputs": [
        {
          "output_type": "execute_result",
          "data": {
            "text/plain": [
              "0.78"
            ]
          },
          "metadata": {
            "tags": []
          },
          "execution_count": 49
        }
      ]
    },
    {
      "cell_type": "code",
      "metadata": {
        "id": "tAoq7SN_bdF3",
        "colab_type": "code",
        "colab": {
          "base_uri": "https://localhost:8080/",
          "height": 153
        },
        "outputId": "7c69be78-1a45-4bb0-c444-80b9b4e73986"
      },
      "source": [
        "from sklearn.ensemble import RandomForestClassifier\n",
        "classifier2 = RandomForestClassifier(n_estimators=187 , random_state = 0)\n",
        "classifier2.fit(x_train , y_train)"
      ],
      "execution_count": 50,
      "outputs": [
        {
          "output_type": "execute_result",
          "data": {
            "text/plain": [
              "RandomForestClassifier(bootstrap=True, ccp_alpha=0.0, class_weight=None,\n",
              "                       criterion='gini', max_depth=None, max_features='auto',\n",
              "                       max_leaf_nodes=None, max_samples=None,\n",
              "                       min_impurity_decrease=0.0, min_impurity_split=None,\n",
              "                       min_samples_leaf=1, min_samples_split=2,\n",
              "                       min_weight_fraction_leaf=0.0, n_estimators=187,\n",
              "                       n_jobs=None, oob_score=False, random_state=0, verbose=0,\n",
              "                       warm_start=False)"
            ]
          },
          "metadata": {
            "tags": []
          },
          "execution_count": 50
        }
      ]
    },
    {
      "cell_type": "code",
      "metadata": {
        "id": "GSWa96rkbyio",
        "colab_type": "code",
        "colab": {}
      },
      "source": [
        "y_pred2 = classifier2.predict(x_test)"
      ],
      "execution_count": 51,
      "outputs": []
    },
    {
      "cell_type": "code",
      "metadata": {
        "id": "7asEGojmb5OJ",
        "colab_type": "code",
        "colab": {
          "base_uri": "https://localhost:8080/",
          "height": 284
        },
        "outputId": "b81028ba-6c3d-4b64-932d-3a7e6ac7fd7d"
      },
      "source": [
        "sns.heatmap(confusion_matrix(y_test , y_pred2) , annot=True)"
      ],
      "execution_count": 52,
      "outputs": [
        {
          "output_type": "execute_result",
          "data": {
            "text/plain": [
              "<matplotlib.axes._subplots.AxesSubplot at 0x7f2dc41b1a58>"
            ]
          },
          "metadata": {
            "tags": []
          },
          "execution_count": 52
        },
        {
          "output_type": "display_data",
          "data": {
            "image/png": "[encoded data removed]",
            "text/plain": [
              "<Figure size 432x288 with 2 Axes>"
            ]
          },
          "metadata": {
            "tags": [],
            "needs_background": "light"
          }
        }
      ]
    },
    {
      "cell_type": "code",
      "metadata": {
        "id": "j3mbRFSYcD2J",
        "colab_type": "code",
        "colab": {
          "base_uri": "https://localhost:8080/",
          "height": 34
        },
        "outputId": "021dec16-616b-4506-f224-96e89a502ba0"
      },
      "source": [
        "accuracy_score(y_test , y_pred2)"
      ],
      "execution_count": 53,
      "outputs": [
        {
          "output_type": "execute_result",
          "data": {
            "text/plain": [
              "0.7828"
            ]
          },
          "metadata": {
            "tags": []
          },
          "execution_count": 53
        }
      ]
    },
    {
      "cell_type": "code",
      "metadata": {
        "id": "hMkPAIw0ebgx",
        "colab_type": "code",
        "colab": {
          "base_uri": "https://localhost:8080/",
          "height": 51
        },
        "outputId": "1b26acec-53c5-4f58-de1d-ab41cc923f4e"
      },
      "source": [
        "from sklearn.model_selection import cross_val_score\n",
        "accuracies = cross_val_score(estimator = classifier , X = x_train , y=y_train , cv=10)\n",
        "print(accuracies.mean())\n",
        "print(accuracies.std())"
      ],
      "execution_count": 54,
      "outputs": [
        {
          "output_type": "stream",
          "text": [
            "0.7763142857142857\n",
            "0.005430751441972824\n"
          ],
          "name": "stdout"
        }
      ]
    },
    {
      "cell_type": "code",
      "metadata": {
        "id": "f-lwxwGMm6IT",
        "colab_type": "code",
        "colab": {}
      },
      "source": [
        "from sklearn.model_selection import GridSearchCV\n",
        "parameters = {\n",
        "    'C':[0.1,0.5,0.9,1.0]\n",
        "}\n",
        "grid = GridSearchCV(estimator=classifier , param_grid = parameters ,scoring='accuracy' ,n_jobs=-1 , cv=10)"
      ],
      "execution_count": 58,
      "outputs": []
    },
    {
      "cell_type": "code",
      "metadata": {
        "id": "ot_-KKG1noq1",
        "colab_type": "code",
        "colab": {}
      },
      "source": [
        "grid = grid.fit(x_train , y_train)"
      ],
      "execution_count": 59,
      "outputs": []
    },
    {
      "cell_type": "code",
      "metadata": {
        "id": "9ndb3IOgAy6m",
        "colab_type": "code",
        "colab": {
          "base_uri": "https://localhost:8080/",
          "height": 34
        },
        "outputId": "24a0a294-5125-485c-d8c1-6ee654aa8d58"
      },
      "source": [
        "grid.best_score_"
      ],
      "execution_count": 60,
      "outputs": [
        {
          "output_type": "execute_result",
          "data": {
            "text/plain": [
              "0.7763142857142857"
            ]
          },
          "metadata": {
            "tags": []
          },
          "execution_count": 60
        }
      ]
    },
    {
      "cell_type": "code",
      "metadata": {
        "id": "hZGN4QSOA2Hv",
        "colab_type": "code",
        "colab": {
          "base_uri": "https://localhost:8080/",
          "height": 34
        },
        "outputId": "d4cd251f-4c0c-4a6e-869a-57e79fe9030d"
      },
      "source": [
        "grid.best_params_"
      ],
      "execution_count": 61,
      "outputs": [
        {
          "output_type": "execute_result",
          "data": {
            "text/plain": [
              "{'C': 1.0}"
            ]
          },
          "metadata": {
            "tags": []
          },
          "execution_count": 61
        }
      ]
    },
    {
      "cell_type": "code",
      "metadata": {
        "id": "q-So4IMtA5qj",
        "colab_type": "code",
        "colab": {}
      },
      "source": [
        "#Thank you!!"
      ],
      "execution_count": null,
      "outputs": []
    }
  ]
}